{
 "cells": [
  {
   "cell_type": "markdown",
   "metadata": {},
   "source": [
    "# LDA from scratch in Python\n",
    "\n",
    "Step by step caluclation of LDA algorithm with collapsed Gibbs sampling to make it easy to follow"
   ]
  },
  {
   "cell_type": "code",
   "execution_count": 1,
   "metadata": {},
   "outputs": [
    {
     "data": {
      "text/plain": [
       "[['eat', 'turkey', 'on', 'turkey', 'day', 'holiday'],\n",
       " ['i', 'like', 'to', 'eat', 'cake', 'on', 'holiday'],\n",
       " ['turkey', 'trot', 'race', 'on', 'thanksgiving', 'holiday'],\n",
       " ['snail', 'race', 'the', 'turtle'],\n",
       " ['time', 'travel', 'space', 'race'],\n",
       " ['movie', 'on', 'thanksgiving'],\n",
       " ['movie', 'at', 'air', 'and', 'space', 'museum', 'is', 'cool', 'movie'],\n",
       " ['aspiring', 'movie', 'star']]"
      ]
     },
     "execution_count": 1,
     "metadata": {},
     "output_type": "execute_result"
    }
   ],
   "source": [
    "%matplotlib inline\n",
    "from IPython.display import display\n",
    "import random\n",
    "import numpy as np\n",
    "import pandas as pd\n",
    "np.set_printoptions(suppress=True)\n",
    "## Generate a corpus\n",
    "rawdocs = ['eat turkey on turkey day holiday',\n",
    "          'i like to eat cake on holiday',\n",
    "          'turkey trot race on thanksgiving holiday',\n",
    "          'snail race the turtle',\n",
    "          'time travel space race',\n",
    "          'movie on thanksgiving',\n",
    "          'movie at air and space museum is cool movie',\n",
    "          'aspiring movie star']\n",
    "\n",
    "docs = [row.split() for row in rawdocs]\n",
    "## PARAMETERS\n",
    "K = 2 # number of topics\n",
    "alpha = 1 # hyperparameter. single value indicates symmetric dirichlet prior. higher=>scatters document clusters\n",
    "eta = .001 # hyperparameter\n",
    "iterations = 3 # iterations for collapsed gibbs sampling.  This should be a lot higher than 3 in practice.\n",
    "docs"
   ]
  },
  {
   "cell_type": "code",
   "execution_count": 2,
   "metadata": {},
   "outputs": [
    {
     "data": {
      "text/plain": [
       "[[13, 12, 0, 12, 19, 4],\n",
       " [2, 11, 17, 13, 26, 0, 4],\n",
       " [12, 5, 3, 0, 6, 4],\n",
       " [10, 3, 18, 7],\n",
       " [23, 24, 14, 3],\n",
       " [22, 0, 6],\n",
       " [22, 15, 1, 16, 14, 20, 8, 9, 22],\n",
       " [25, 22, 21]]"
      ]
     },
     "execution_count": 2,
     "metadata": {},
     "output_type": "execute_result"
    }
   ],
   "source": [
    "vocab = set(' '.join(rawdocs).split())\n",
    "word2id = {k: v for v, k in enumerate(vocab)}\n",
    "id2word = {k: v for v, k in word2id.items()}\n",
    "docs = [list(map(word2id.get, sublist)) for sublist in docs]\n",
    "docs"
   ]
  },
  {
   "cell_type": "code",
   "execution_count": 3,
   "metadata": {},
   "outputs": [
    {
     "data": {
      "text/plain": [
       "[[0, 0, 0, 1, 1, 0],\n",
       " [0, 1, 0, 0, 0, 0, 0],\n",
       " [0, 0, 0, 0, 0, 0],\n",
       " [0, 1, 0, 1],\n",
       " [1, 0, 1, 0],\n",
       " [1, 1, 0],\n",
       " [0, 1, 1, 1, 1, 0, 1, 0, 0],\n",
       " [0, 0, 0]]"
      ]
     },
     "metadata": {},
     "output_type": "display_data"
    },
    {
     "data": {
      "text/html": [
       "<div>\n",
       "<style scoped>\n",
       "    .dataframe tbody tr th:only-of-type {\n",
       "        vertical-align: middle;\n",
       "    }\n",
       "\n",
       "    .dataframe tbody tr th {\n",
       "        vertical-align: top;\n",
       "    }\n",
       "\n",
       "    .dataframe thead th {\n",
       "        text-align: right;\n",
       "    }\n",
       "</style>\n",
       "<table border=\"1\" class=\"dataframe\">\n",
       "  <thead>\n",
       "    <tr style=\"text-align: right;\">\n",
       "      <th></th>\n",
       "      <th>on</th>\n",
       "      <th>air</th>\n",
       "      <th>i</th>\n",
       "      <th>race</th>\n",
       "      <th>holiday</th>\n",
       "      <th>trot</th>\n",
       "      <th>thanksgiving</th>\n",
       "      <th>turtle</th>\n",
       "      <th>is</th>\n",
       "      <th>cool</th>\n",
       "      <th>...</th>\n",
       "      <th>to</th>\n",
       "      <th>the</th>\n",
       "      <th>day</th>\n",
       "      <th>museum</th>\n",
       "      <th>star</th>\n",
       "      <th>movie</th>\n",
       "      <th>time</th>\n",
       "      <th>travel</th>\n",
       "      <th>aspiring</th>\n",
       "      <th>cake</th>\n",
       "    </tr>\n",
       "  </thead>\n",
       "  <tbody>\n",
       "    <tr>\n",
       "      <th>Topic0</th>\n",
       "      <td>3</td>\n",
       "      <td>0</td>\n",
       "      <td>1</td>\n",
       "      <td>2</td>\n",
       "      <td>3</td>\n",
       "      <td>1</td>\n",
       "      <td>2</td>\n",
       "      <td>0</td>\n",
       "      <td>0</td>\n",
       "      <td>1</td>\n",
       "      <td>...</td>\n",
       "      <td>1</td>\n",
       "      <td>1</td>\n",
       "      <td>0</td>\n",
       "      <td>1</td>\n",
       "      <td>1</td>\n",
       "      <td>3</td>\n",
       "      <td>0</td>\n",
       "      <td>1</td>\n",
       "      <td>1</td>\n",
       "      <td>1</td>\n",
       "    </tr>\n",
       "    <tr>\n",
       "      <th>Topic1</th>\n",
       "      <td>1</td>\n",
       "      <td>1</td>\n",
       "      <td>0</td>\n",
       "      <td>1</td>\n",
       "      <td>0</td>\n",
       "      <td>0</td>\n",
       "      <td>0</td>\n",
       "      <td>1</td>\n",
       "      <td>1</td>\n",
       "      <td>0</td>\n",
       "      <td>...</td>\n",
       "      <td>0</td>\n",
       "      <td>0</td>\n",
       "      <td>1</td>\n",
       "      <td>0</td>\n",
       "      <td>0</td>\n",
       "      <td>1</td>\n",
       "      <td>1</td>\n",
       "      <td>0</td>\n",
       "      <td>0</td>\n",
       "      <td>0</td>\n",
       "    </tr>\n",
       "  </tbody>\n",
       "</table>\n",
       "<p>2 rows × 27 columns</p>\n",
       "</div>"
      ],
      "text/plain": [
       "        on  air  i  race  holiday  trot  thanksgiving  turtle  is  cool  ...   \\\n",
       "Topic0   3    0  1     2        3     1             2       0   0     1  ...    \n",
       "Topic1   1    1  0     1        0     0             0       1   1     0  ...    \n",
       "\n",
       "        to  the  day  museum  star  movie  time  travel  aspiring  cake  \n",
       "Topic0   1    1    0       1     1      3     0       1         1     1  \n",
       "Topic1   0    0    1       0     0      1     1       0         0     0  \n",
       "\n",
       "[2 rows x 27 columns]"
      ]
     },
     "metadata": {},
     "output_type": "display_data"
    }
   ],
   "source": [
    "wt = pd.DataFrame(0, index=[f'Topic{i}' for i in range(K)], columns=vocab)\n",
    "ta = [[0]*len(doc) for doc in docs]\n",
    "\n",
    "for d, words in enumerate(docs):\n",
    "    for w, word in enumerate(words):\n",
    "        ch = random.choice(range(K))\n",
    "        ta[d][w] = ch\n",
    "        wt.values[ch,word] = wt.values[ch,word] + 1\n",
    "\n",
    "display(ta)\n",
    "display(wt)"
   ]
  },
  {
   "cell_type": "code",
   "execution_count": 4,
   "metadata": {},
   "outputs": [
    {
     "data": {
      "text/html": [
       "<div>\n",
       "<style scoped>\n",
       "    .dataframe tbody tr th:only-of-type {\n",
       "        vertical-align: middle;\n",
       "    }\n",
       "\n",
       "    .dataframe tbody tr th {\n",
       "        vertical-align: top;\n",
       "    }\n",
       "\n",
       "    .dataframe thead th {\n",
       "        text-align: right;\n",
       "    }\n",
       "</style>\n",
       "<table border=\"1\" class=\"dataframe\">\n",
       "  <thead>\n",
       "    <tr style=\"text-align: right;\">\n",
       "      <th></th>\n",
       "      <th>Topic0</th>\n",
       "      <th>Topic1</th>\n",
       "    </tr>\n",
       "  </thead>\n",
       "  <tbody>\n",
       "    <tr>\n",
       "      <th>Document0</th>\n",
       "      <td>4</td>\n",
       "      <td>2</td>\n",
       "    </tr>\n",
       "    <tr>\n",
       "      <th>Document1</th>\n",
       "      <td>6</td>\n",
       "      <td>1</td>\n",
       "    </tr>\n",
       "    <tr>\n",
       "      <th>Document2</th>\n",
       "      <td>6</td>\n",
       "      <td>0</td>\n",
       "    </tr>\n",
       "    <tr>\n",
       "      <th>Document3</th>\n",
       "      <td>2</td>\n",
       "      <td>2</td>\n",
       "    </tr>\n",
       "    <tr>\n",
       "      <th>Document4</th>\n",
       "      <td>2</td>\n",
       "      <td>2</td>\n",
       "    </tr>\n",
       "    <tr>\n",
       "      <th>Document5</th>\n",
       "      <td>1</td>\n",
       "      <td>2</td>\n",
       "    </tr>\n",
       "    <tr>\n",
       "      <th>Document6</th>\n",
       "      <td>4</td>\n",
       "      <td>5</td>\n",
       "    </tr>\n",
       "    <tr>\n",
       "      <th>Document7</th>\n",
       "      <td>3</td>\n",
       "      <td>0</td>\n",
       "    </tr>\n",
       "  </tbody>\n",
       "</table>\n",
       "</div>"
      ],
      "text/plain": [
       "           Topic0  Topic1\n",
       "Document0       4       2\n",
       "Document1       6       1\n",
       "Document2       6       0\n",
       "Document3       2       2\n",
       "Document4       2       2\n",
       "Document5       1       2\n",
       "Document6       4       5\n",
       "Document7       3       0"
      ]
     },
     "execution_count": 4,
     "metadata": {},
     "output_type": "execute_result"
    }
   ],
   "source": [
    "dt = np.zeros([len(docs), K])\n",
    "dt = pd.DataFrame(0, index=[f'Document{i}' for i in range(len(docs))], columns=[f'Topic{i}' for i in range(K)])\n",
    "for d in range(len(docs)):                # for each document d\n",
    "    for t in range(K):                    # for each topic t\n",
    "        dt.values[d, t] = ta[d].count(t)  # count tokens in document d assigned to topic t\n",
    "dt"
   ]
  },
  {
   "cell_type": "code",
   "execution_count": 5,
   "metadata": {},
   "outputs": [],
   "source": [
    "# for i in range(iterations+1):\n",
    "#     for d, words in enumerate(docs):\n",
    "#         for w, word in enumerate(words):\n",
    "#             t0 = ta[d][w]  # initial topic assignment to token w\n",
    "#             wid = docs[d][w]  # wordID of token w\n",
    "#             dt.values[d,t0] = dt.values[d,t0] - 1 # we don't want to include token w in our document-topic count matrix when sampling for token w\n",
    "#             wt.values[t0,wid] = wt.values[t0,wid]-1 # we don't want to include token w in our word-topic count matrix when sampling for token w\n",
    "#             ## UPDATE TOPIC ASSIGNMENT FOR EACH WORD -- COLLAPSED GIBBS SAMPLING MAGIC.  Where the magic happens.\n",
    "#             denom_a = dt.values[d,:].sum() + K * alpha # number of tokens in document + number topics * alpha\n",
    "#             denom_b = wt.sum(axis=1) + len(vocab) * eta # number of tokens in each topic + # of words in vocab * eta\n",
    "#             p_z = (wt.values[:,wid] + eta) / denom_b * (dt.values[d,:] + alpha) / denom_a # calculating probability word belongs to each topic\n",
    "#             t1 = np.random.choice(range(K), size=1, replace=False, p=p_z/sum(p_z)).item() # draw topic for word n from multinomial using probabilities calculated above\n",
    "#             ta[d][w] = t1 # update topic assignment list with newly sampled topic for token w.\n",
    "#             dt.values[d,t1] = dt.values[d,t1]+1 # re-increment document-topic matrix with new topic assignment for token w.\n",
    "#             wt.values[t1,wid] = wt.values[t1,wid]+1 #re-increment word-topic matrix with new topic assignment for token w.\n",
    "#             if t0!=t1:\n",
    "#                 print(f'doc:{d} token:{w} topic:{t0}=>{t1}') # examine when topic assignments change"
   ]
  },
  {
   "cell_type": "code",
   "execution_count": 6,
   "metadata": {},
   "outputs": [
    {
     "name": "stdout",
     "output_type": "stream",
     "text": [
      "0 0\n"
     ]
    }
   ],
   "source": [
    "w,d = 0, 0\n",
    "print(w, d)"
   ]
  },
  {
   "cell_type": "code",
   "execution_count": 7,
   "metadata": {},
   "outputs": [
    {
     "data": {
      "text/plain": [
       "0"
      ]
     },
     "execution_count": 7,
     "metadata": {},
     "output_type": "execute_result"
    }
   ],
   "source": [
    "t0 = ta[d][w]  # initial topic assignment to token w\n",
    "t0"
   ]
  },
  {
   "cell_type": "code",
   "execution_count": 8,
   "metadata": {},
   "outputs": [
    {
     "data": {
      "text/plain": [
       "13"
      ]
     },
     "execution_count": 8,
     "metadata": {},
     "output_type": "execute_result"
    }
   ],
   "source": [
    "wid = docs[d][w]  # wordID of token w\n",
    "wid"
   ]
  },
  {
   "cell_type": "code",
   "execution_count": 9,
   "metadata": {},
   "outputs": [
    {
     "data": {
      "text/html": [
       "<div>\n",
       "<style scoped>\n",
       "    .dataframe tbody tr th:only-of-type {\n",
       "        vertical-align: middle;\n",
       "    }\n",
       "\n",
       "    .dataframe tbody tr th {\n",
       "        vertical-align: top;\n",
       "    }\n",
       "\n",
       "    .dataframe thead th {\n",
       "        text-align: right;\n",
       "    }\n",
       "</style>\n",
       "<table border=\"1\" class=\"dataframe\">\n",
       "  <thead>\n",
       "    <tr style=\"text-align: right;\">\n",
       "      <th></th>\n",
       "      <th>Topic0</th>\n",
       "      <th>Topic1</th>\n",
       "    </tr>\n",
       "  </thead>\n",
       "  <tbody>\n",
       "    <tr>\n",
       "      <th>Document0</th>\n",
       "      <td>3</td>\n",
       "      <td>2</td>\n",
       "    </tr>\n",
       "    <tr>\n",
       "      <th>Document1</th>\n",
       "      <td>6</td>\n",
       "      <td>1</td>\n",
       "    </tr>\n",
       "    <tr>\n",
       "      <th>Document2</th>\n",
       "      <td>6</td>\n",
       "      <td>0</td>\n",
       "    </tr>\n",
       "    <tr>\n",
       "      <th>Document3</th>\n",
       "      <td>2</td>\n",
       "      <td>2</td>\n",
       "    </tr>\n",
       "    <tr>\n",
       "      <th>Document4</th>\n",
       "      <td>2</td>\n",
       "      <td>2</td>\n",
       "    </tr>\n",
       "    <tr>\n",
       "      <th>Document5</th>\n",
       "      <td>1</td>\n",
       "      <td>2</td>\n",
       "    </tr>\n",
       "    <tr>\n",
       "      <th>Document6</th>\n",
       "      <td>4</td>\n",
       "      <td>5</td>\n",
       "    </tr>\n",
       "    <tr>\n",
       "      <th>Document7</th>\n",
       "      <td>3</td>\n",
       "      <td>0</td>\n",
       "    </tr>\n",
       "  </tbody>\n",
       "</table>\n",
       "</div>"
      ],
      "text/plain": [
       "           Topic0  Topic1\n",
       "Document0       3       2\n",
       "Document1       6       1\n",
       "Document2       6       0\n",
       "Document3       2       2\n",
       "Document4       2       2\n",
       "Document5       1       2\n",
       "Document6       4       5\n",
       "Document7       3       0"
      ]
     },
     "execution_count": 9,
     "metadata": {},
     "output_type": "execute_result"
    }
   ],
   "source": [
    "dt.values[d,t0] = dt.values[d,t0] - 1 # we don't want to include token w in our document-topic count matrix when sampling for token w\n",
    "dt"
   ]
  },
  {
   "cell_type": "code",
   "execution_count": 10,
   "metadata": {},
   "outputs": [
    {
     "data": {
      "text/html": [
       "<div>\n",
       "<style scoped>\n",
       "    .dataframe tbody tr th:only-of-type {\n",
       "        vertical-align: middle;\n",
       "    }\n",
       "\n",
       "    .dataframe tbody tr th {\n",
       "        vertical-align: top;\n",
       "    }\n",
       "\n",
       "    .dataframe thead th {\n",
       "        text-align: right;\n",
       "    }\n",
       "</style>\n",
       "<table border=\"1\" class=\"dataframe\">\n",
       "  <thead>\n",
       "    <tr style=\"text-align: right;\">\n",
       "      <th></th>\n",
       "      <th>on</th>\n",
       "      <th>air</th>\n",
       "      <th>i</th>\n",
       "      <th>race</th>\n",
       "      <th>holiday</th>\n",
       "      <th>trot</th>\n",
       "      <th>thanksgiving</th>\n",
       "      <th>turtle</th>\n",
       "      <th>is</th>\n",
       "      <th>cool</th>\n",
       "      <th>...</th>\n",
       "      <th>to</th>\n",
       "      <th>the</th>\n",
       "      <th>day</th>\n",
       "      <th>museum</th>\n",
       "      <th>star</th>\n",
       "      <th>movie</th>\n",
       "      <th>time</th>\n",
       "      <th>travel</th>\n",
       "      <th>aspiring</th>\n",
       "      <th>cake</th>\n",
       "    </tr>\n",
       "  </thead>\n",
       "  <tbody>\n",
       "    <tr>\n",
       "      <th>Topic0</th>\n",
       "      <td>3</td>\n",
       "      <td>0</td>\n",
       "      <td>1</td>\n",
       "      <td>2</td>\n",
       "      <td>3</td>\n",
       "      <td>1</td>\n",
       "      <td>2</td>\n",
       "      <td>0</td>\n",
       "      <td>0</td>\n",
       "      <td>1</td>\n",
       "      <td>...</td>\n",
       "      <td>1</td>\n",
       "      <td>1</td>\n",
       "      <td>0</td>\n",
       "      <td>1</td>\n",
       "      <td>1</td>\n",
       "      <td>3</td>\n",
       "      <td>0</td>\n",
       "      <td>1</td>\n",
       "      <td>1</td>\n",
       "      <td>1</td>\n",
       "    </tr>\n",
       "    <tr>\n",
       "      <th>Topic1</th>\n",
       "      <td>1</td>\n",
       "      <td>1</td>\n",
       "      <td>0</td>\n",
       "      <td>1</td>\n",
       "      <td>0</td>\n",
       "      <td>0</td>\n",
       "      <td>0</td>\n",
       "      <td>1</td>\n",
       "      <td>1</td>\n",
       "      <td>0</td>\n",
       "      <td>...</td>\n",
       "      <td>0</td>\n",
       "      <td>0</td>\n",
       "      <td>1</td>\n",
       "      <td>0</td>\n",
       "      <td>0</td>\n",
       "      <td>1</td>\n",
       "      <td>1</td>\n",
       "      <td>0</td>\n",
       "      <td>0</td>\n",
       "      <td>0</td>\n",
       "    </tr>\n",
       "  </tbody>\n",
       "</table>\n",
       "<p>2 rows × 27 columns</p>\n",
       "</div>"
      ],
      "text/plain": [
       "        on  air  i  race  holiday  trot  thanksgiving  turtle  is  cool  ...   \\\n",
       "Topic0   3    0  1     2        3     1             2       0   0     1  ...    \n",
       "Topic1   1    1  0     1        0     0             0       1   1     0  ...    \n",
       "\n",
       "        to  the  day  museum  star  movie  time  travel  aspiring  cake  \n",
       "Topic0   1    1    0       1     1      3     0       1         1     1  \n",
       "Topic1   0    0    1       0     0      1     1       0         0     0  \n",
       "\n",
       "[2 rows x 27 columns]"
      ]
     },
     "execution_count": 10,
     "metadata": {},
     "output_type": "execute_result"
    }
   ],
   "source": [
    "wt.values[t0,wid] = wt.values[t0,wid]-1 # we don't want to include token w in our word-topic count matrix when sampling for token w\n",
    "wt"
   ]
  },
  {
   "cell_type": "code",
   "execution_count": 11,
   "metadata": {},
   "outputs": [
    {
     "data": {
      "text/plain": [
       "Topic0    4\n",
       "Topic1    3\n",
       "Name: Document0, dtype: int64"
      ]
     },
     "execution_count": 11,
     "metadata": {},
     "output_type": "execute_result"
    }
   ],
   "source": [
    "nom_a = dt.iloc[d,:] + alpha\n",
    "nom_a"
   ]
  },
  {
   "cell_type": "code",
   "execution_count": 12,
   "metadata": {},
   "outputs": [
    {
     "data": {
      "text/plain": [
       "7"
      ]
     },
     "execution_count": 12,
     "metadata": {},
     "output_type": "execute_result"
    }
   ],
   "source": [
    "denom_a = dt.values[d,:].sum() + K * alpha # number of tokens in document + number topics * alpha\n",
    "denom_a"
   ]
  },
  {
   "cell_type": "code",
   "execution_count": 13,
   "metadata": {},
   "outputs": [
    {
     "data": {
      "text/plain": [
       "Topic0    1.001\n",
       "Topic1    0.001\n",
       "Name: eat, dtype: float64"
      ]
     },
     "execution_count": 13,
     "metadata": {},
     "output_type": "execute_result"
    }
   ],
   "source": [
    "nom_b = wt.iloc[:, wid] + eta\n",
    "nom_b"
   ]
  },
  {
   "cell_type": "code",
   "execution_count": 14,
   "metadata": {},
   "outputs": [
    {
     "data": {
      "text/plain": [
       "Topic0    27.027\n",
       "Topic1    14.027\n",
       "dtype: float64"
      ]
     },
     "execution_count": 14,
     "metadata": {},
     "output_type": "execute_result"
    }
   ],
   "source": [
    "denom_b = wt.sum(axis=1) + len(vocab) * eta # number of tokens in each topic + # of words in vocab * eta\n",
    "denom_b"
   ]
  },
  {
   "cell_type": "code",
   "execution_count": 15,
   "metadata": {},
   "outputs": [
    {
     "data": {
      "text/plain": [
       "array([0.02116402, 0.00003055])"
      ]
     },
     "execution_count": 15,
     "metadata": {},
     "output_type": "execute_result"
    }
   ],
   "source": [
    "p_z = (nom_a/denom_a).values * (nom_b.T/denom_b).values # calculating probability word belongs to each topic\n",
    "p_z"
   ]
  },
  {
   "cell_type": "code",
   "execution_count": 16,
   "metadata": {},
   "outputs": [
    {
     "data": {
      "text/plain": [
       "0"
      ]
     },
     "execution_count": 16,
     "metadata": {},
     "output_type": "execute_result"
    }
   ],
   "source": [
    "t1 = np.random.choice(range(K), size=1, replace=False, p=p_z/sum(p_z)).item() # draw topic for word n from multinomial using probabilities calculated above\n",
    "t1"
   ]
  },
  {
   "cell_type": "code",
   "execution_count": 17,
   "metadata": {},
   "outputs": [
    {
     "data": {
      "text/plain": [
       "[[0, 0, 0, 1, 1, 0],\n",
       " [0, 1, 0, 0, 0, 0, 0],\n",
       " [0, 0, 0, 0, 0, 0],\n",
       " [0, 1, 0, 1],\n",
       " [1, 0, 1, 0],\n",
       " [1, 1, 0],\n",
       " [0, 1, 1, 1, 1, 0, 1, 0, 0],\n",
       " [0, 0, 0]]"
      ]
     },
     "execution_count": 17,
     "metadata": {},
     "output_type": "execute_result"
    }
   ],
   "source": [
    "ta[d][w] = t1 # update topic assignment list with newly sampled topic for token w.\n",
    "ta"
   ]
  },
  {
   "cell_type": "code",
   "execution_count": 18,
   "metadata": {},
   "outputs": [
    {
     "data": {
      "text/html": [
       "<div>\n",
       "<style scoped>\n",
       "    .dataframe tbody tr th:only-of-type {\n",
       "        vertical-align: middle;\n",
       "    }\n",
       "\n",
       "    .dataframe tbody tr th {\n",
       "        vertical-align: top;\n",
       "    }\n",
       "\n",
       "    .dataframe thead th {\n",
       "        text-align: right;\n",
       "    }\n",
       "</style>\n",
       "<table border=\"1\" class=\"dataframe\">\n",
       "  <thead>\n",
       "    <tr style=\"text-align: right;\">\n",
       "      <th></th>\n",
       "      <th>Topic0</th>\n",
       "      <th>Topic1</th>\n",
       "    </tr>\n",
       "  </thead>\n",
       "  <tbody>\n",
       "    <tr>\n",
       "      <th>Document0</th>\n",
       "      <td>4</td>\n",
       "      <td>2</td>\n",
       "    </tr>\n",
       "    <tr>\n",
       "      <th>Document1</th>\n",
       "      <td>6</td>\n",
       "      <td>1</td>\n",
       "    </tr>\n",
       "    <tr>\n",
       "      <th>Document2</th>\n",
       "      <td>6</td>\n",
       "      <td>0</td>\n",
       "    </tr>\n",
       "    <tr>\n",
       "      <th>Document3</th>\n",
       "      <td>2</td>\n",
       "      <td>2</td>\n",
       "    </tr>\n",
       "    <tr>\n",
       "      <th>Document4</th>\n",
       "      <td>2</td>\n",
       "      <td>2</td>\n",
       "    </tr>\n",
       "    <tr>\n",
       "      <th>Document5</th>\n",
       "      <td>1</td>\n",
       "      <td>2</td>\n",
       "    </tr>\n",
       "    <tr>\n",
       "      <th>Document6</th>\n",
       "      <td>4</td>\n",
       "      <td>5</td>\n",
       "    </tr>\n",
       "    <tr>\n",
       "      <th>Document7</th>\n",
       "      <td>3</td>\n",
       "      <td>0</td>\n",
       "    </tr>\n",
       "  </tbody>\n",
       "</table>\n",
       "</div>"
      ],
      "text/plain": [
       "           Topic0  Topic1\n",
       "Document0       4       2\n",
       "Document1       6       1\n",
       "Document2       6       0\n",
       "Document3       2       2\n",
       "Document4       2       2\n",
       "Document5       1       2\n",
       "Document6       4       5\n",
       "Document7       3       0"
      ]
     },
     "execution_count": 18,
     "metadata": {},
     "output_type": "execute_result"
    }
   ],
   "source": [
    "dt.values[d,t1] = dt.values[d,t1]+1 # re-increment document-topic matrix with new topic assignment for token w.\n",
    "dt"
   ]
  },
  {
   "cell_type": "code",
   "execution_count": 19,
   "metadata": {},
   "outputs": [
    {
     "data": {
      "text/html": [
       "<div>\n",
       "<style scoped>\n",
       "    .dataframe tbody tr th:only-of-type {\n",
       "        vertical-align: middle;\n",
       "    }\n",
       "\n",
       "    .dataframe tbody tr th {\n",
       "        vertical-align: top;\n",
       "    }\n",
       "\n",
       "    .dataframe thead th {\n",
       "        text-align: right;\n",
       "    }\n",
       "</style>\n",
       "<table border=\"1\" class=\"dataframe\">\n",
       "  <thead>\n",
       "    <tr style=\"text-align: right;\">\n",
       "      <th></th>\n",
       "      <th>on</th>\n",
       "      <th>air</th>\n",
       "      <th>i</th>\n",
       "      <th>race</th>\n",
       "      <th>holiday</th>\n",
       "      <th>trot</th>\n",
       "      <th>thanksgiving</th>\n",
       "      <th>turtle</th>\n",
       "      <th>is</th>\n",
       "      <th>cool</th>\n",
       "      <th>...</th>\n",
       "      <th>to</th>\n",
       "      <th>the</th>\n",
       "      <th>day</th>\n",
       "      <th>museum</th>\n",
       "      <th>star</th>\n",
       "      <th>movie</th>\n",
       "      <th>time</th>\n",
       "      <th>travel</th>\n",
       "      <th>aspiring</th>\n",
       "      <th>cake</th>\n",
       "    </tr>\n",
       "  </thead>\n",
       "  <tbody>\n",
       "    <tr>\n",
       "      <th>Topic0</th>\n",
       "      <td>3</td>\n",
       "      <td>0</td>\n",
       "      <td>1</td>\n",
       "      <td>2</td>\n",
       "      <td>3</td>\n",
       "      <td>1</td>\n",
       "      <td>2</td>\n",
       "      <td>0</td>\n",
       "      <td>0</td>\n",
       "      <td>1</td>\n",
       "      <td>...</td>\n",
       "      <td>1</td>\n",
       "      <td>1</td>\n",
       "      <td>0</td>\n",
       "      <td>1</td>\n",
       "      <td>1</td>\n",
       "      <td>3</td>\n",
       "      <td>0</td>\n",
       "      <td>1</td>\n",
       "      <td>1</td>\n",
       "      <td>1</td>\n",
       "    </tr>\n",
       "    <tr>\n",
       "      <th>Topic1</th>\n",
       "      <td>1</td>\n",
       "      <td>1</td>\n",
       "      <td>0</td>\n",
       "      <td>1</td>\n",
       "      <td>0</td>\n",
       "      <td>0</td>\n",
       "      <td>0</td>\n",
       "      <td>1</td>\n",
       "      <td>1</td>\n",
       "      <td>0</td>\n",
       "      <td>...</td>\n",
       "      <td>0</td>\n",
       "      <td>0</td>\n",
       "      <td>1</td>\n",
       "      <td>0</td>\n",
       "      <td>0</td>\n",
       "      <td>1</td>\n",
       "      <td>1</td>\n",
       "      <td>0</td>\n",
       "      <td>0</td>\n",
       "      <td>0</td>\n",
       "    </tr>\n",
       "  </tbody>\n",
       "</table>\n",
       "<p>2 rows × 27 columns</p>\n",
       "</div>"
      ],
      "text/plain": [
       "        on  air  i  race  holiday  trot  thanksgiving  turtle  is  cool  ...   \\\n",
       "Topic0   3    0  1     2        3     1             2       0   0     1  ...    \n",
       "Topic1   1    1  0     1        0     0             0       1   1     0  ...    \n",
       "\n",
       "        to  the  day  museum  star  movie  time  travel  aspiring  cake  \n",
       "Topic0   1    1    0       1     1      3     0       1         1     1  \n",
       "Topic1   0    0    1       0     0      1     1       0         0     0  \n",
       "\n",
       "[2 rows x 27 columns]"
      ]
     },
     "execution_count": 19,
     "metadata": {},
     "output_type": "execute_result"
    }
   ],
   "source": [
    "wt.values[t1,wid] = wt.values[t1,wid]+1 #re-increment word-topic matrix with new topic assignment for token w.\n",
    "wt"
   ]
  },
  {
   "cell_type": "code",
   "execution_count": 20,
   "metadata": {},
   "outputs": [
    {
     "data": {
      "text/html": [
       "<div>\n",
       "<style scoped>\n",
       "    .dataframe tbody tr th:only-of-type {\n",
       "        vertical-align: middle;\n",
       "    }\n",
       "\n",
       "    .dataframe tbody tr th {\n",
       "        vertical-align: top;\n",
       "    }\n",
       "\n",
       "    .dataframe thead th {\n",
       "        text-align: right;\n",
       "    }\n",
       "</style>\n",
       "<table border=\"1\" class=\"dataframe\">\n",
       "  <thead>\n",
       "    <tr style=\"text-align: right;\">\n",
       "      <th></th>\n",
       "      <th>Topic0</th>\n",
       "      <th>Topic1</th>\n",
       "    </tr>\n",
       "  </thead>\n",
       "  <tbody>\n",
       "    <tr>\n",
       "      <th>Document0</th>\n",
       "      <td>0.625000</td>\n",
       "      <td>0.375000</td>\n",
       "    </tr>\n",
       "    <tr>\n",
       "      <th>Document1</th>\n",
       "      <td>0.777778</td>\n",
       "      <td>0.222222</td>\n",
       "    </tr>\n",
       "    <tr>\n",
       "      <th>Document2</th>\n",
       "      <td>0.875000</td>\n",
       "      <td>0.125000</td>\n",
       "    </tr>\n",
       "    <tr>\n",
       "      <th>Document3</th>\n",
       "      <td>0.500000</td>\n",
       "      <td>0.500000</td>\n",
       "    </tr>\n",
       "    <tr>\n",
       "      <th>Document4</th>\n",
       "      <td>0.500000</td>\n",
       "      <td>0.500000</td>\n",
       "    </tr>\n",
       "    <tr>\n",
       "      <th>Document5</th>\n",
       "      <td>0.400000</td>\n",
       "      <td>0.600000</td>\n",
       "    </tr>\n",
       "    <tr>\n",
       "      <th>Document6</th>\n",
       "      <td>0.454545</td>\n",
       "      <td>0.545455</td>\n",
       "    </tr>\n",
       "    <tr>\n",
       "      <th>Document7</th>\n",
       "      <td>0.800000</td>\n",
       "      <td>0.200000</td>\n",
       "    </tr>\n",
       "  </tbody>\n",
       "</table>\n",
       "</div>"
      ],
      "text/plain": [
       "             Topic0    Topic1\n",
       "Document0  0.625000  0.375000\n",
       "Document1  0.777778  0.222222\n",
       "Document2  0.875000  0.125000\n",
       "Document3  0.500000  0.500000\n",
       "Document4  0.500000  0.500000\n",
       "Document5  0.400000  0.600000\n",
       "Document6  0.454545  0.545455\n",
       "Document7  0.800000  0.200000"
      ]
     },
     "execution_count": 20,
     "metadata": {},
     "output_type": "execute_result"
    }
   ],
   "source": [
    "theta = (dt+alpha).div((dt+alpha).sum(axis=1), axis=0) # topic probabilities per document\n",
    "theta"
   ]
  },
  {
   "cell_type": "code",
   "execution_count": 21,
   "metadata": {},
   "outputs": [
    {
     "data": {
      "text/html": [
       "<div>\n",
       "<style scoped>\n",
       "    .dataframe tbody tr th:only-of-type {\n",
       "        vertical-align: middle;\n",
       "    }\n",
       "\n",
       "    .dataframe tbody tr th {\n",
       "        vertical-align: top;\n",
       "    }\n",
       "\n",
       "    .dataframe thead th {\n",
       "        text-align: right;\n",
       "    }\n",
       "</style>\n",
       "<table border=\"1\" class=\"dataframe\">\n",
       "  <thead>\n",
       "    <tr style=\"text-align: right;\">\n",
       "      <th></th>\n",
       "      <th>on</th>\n",
       "      <th>air</th>\n",
       "      <th>i</th>\n",
       "      <th>race</th>\n",
       "      <th>holiday</th>\n",
       "      <th>trot</th>\n",
       "      <th>thanksgiving</th>\n",
       "      <th>turtle</th>\n",
       "      <th>is</th>\n",
       "      <th>cool</th>\n",
       "      <th>...</th>\n",
       "      <th>to</th>\n",
       "      <th>the</th>\n",
       "      <th>day</th>\n",
       "      <th>museum</th>\n",
       "      <th>star</th>\n",
       "      <th>movie</th>\n",
       "      <th>time</th>\n",
       "      <th>travel</th>\n",
       "      <th>aspiring</th>\n",
       "      <th>cake</th>\n",
       "    </tr>\n",
       "  </thead>\n",
       "  <tbody>\n",
       "    <tr>\n",
       "      <th>Topic0</th>\n",
       "      <td>0.107075</td>\n",
       "      <td>0.000036</td>\n",
       "      <td>0.035716</td>\n",
       "      <td>0.071395</td>\n",
       "      <td>0.107075</td>\n",
       "      <td>0.035716</td>\n",
       "      <td>0.071395</td>\n",
       "      <td>0.000036</td>\n",
       "      <td>0.000036</td>\n",
       "      <td>0.035716</td>\n",
       "      <td>...</td>\n",
       "      <td>0.035716</td>\n",
       "      <td>0.035716</td>\n",
       "      <td>0.000036</td>\n",
       "      <td>0.035716</td>\n",
       "      <td>0.035716</td>\n",
       "      <td>0.107075</td>\n",
       "      <td>0.000036</td>\n",
       "      <td>0.035716</td>\n",
       "      <td>0.035716</td>\n",
       "      <td>0.035716</td>\n",
       "    </tr>\n",
       "    <tr>\n",
       "      <th>Topic1</th>\n",
       "      <td>0.071362</td>\n",
       "      <td>0.071362</td>\n",
       "      <td>0.000071</td>\n",
       "      <td>0.071362</td>\n",
       "      <td>0.000071</td>\n",
       "      <td>0.000071</td>\n",
       "      <td>0.000071</td>\n",
       "      <td>0.071362</td>\n",
       "      <td>0.071362</td>\n",
       "      <td>0.000071</td>\n",
       "      <td>...</td>\n",
       "      <td>0.000071</td>\n",
       "      <td>0.000071</td>\n",
       "      <td>0.071362</td>\n",
       "      <td>0.000071</td>\n",
       "      <td>0.000071</td>\n",
       "      <td>0.071362</td>\n",
       "      <td>0.071362</td>\n",
       "      <td>0.000071</td>\n",
       "      <td>0.000071</td>\n",
       "      <td>0.000071</td>\n",
       "    </tr>\n",
       "  </tbody>\n",
       "</table>\n",
       "<p>2 rows × 27 columns</p>\n",
       "</div>"
      ],
      "text/plain": [
       "              on       air         i      race   holiday      trot  \\\n",
       "Topic0  0.107075  0.000036  0.035716  0.071395  0.107075  0.035716   \n",
       "Topic1  0.071362  0.071362  0.000071  0.071362  0.000071  0.000071   \n",
       "\n",
       "        thanksgiving    turtle        is      cool    ...           to  \\\n",
       "Topic0      0.071395  0.000036  0.000036  0.035716    ...     0.035716   \n",
       "Topic1      0.000071  0.071362  0.071362  0.000071    ...     0.000071   \n",
       "\n",
       "             the       day    museum      star     movie      time    travel  \\\n",
       "Topic0  0.035716  0.000036  0.035716  0.035716  0.107075  0.000036  0.035716   \n",
       "Topic1  0.000071  0.071362  0.000071  0.000071  0.071362  0.071362  0.000071   \n",
       "\n",
       "        aspiring      cake  \n",
       "Topic0  0.035716  0.035716  \n",
       "Topic1  0.000071  0.000071  \n",
       "\n",
       "[2 rows x 27 columns]"
      ]
     },
     "execution_count": 21,
     "metadata": {},
     "output_type": "execute_result"
    }
   ],
   "source": [
    "phi = (wt + eta).div((wt + eta).sum(axis=1), axis=0) # topic probabilities per word\n",
    "phi"
   ]
  },
  {
   "cell_type": "code",
   "execution_count": 22,
   "metadata": {},
   "outputs": [
    {
     "data": {
      "text/plain": [
       "on              0.107075\n",
       "holiday         0.107075\n",
       "movie           0.107075\n",
       "turkey          0.071395\n",
       "race            0.071395\n",
       "thanksgiving    0.071395\n",
       "eat             0.071395\n",
       "cool            0.035716\n",
       "snail           0.035716\n",
       "i               0.035716\n",
       "travel          0.035716\n",
       "trot            0.035716\n",
       "star            0.035716\n",
       "the             0.035716\n",
       "cake            0.035716\n",
       "museum          0.035716\n",
       "aspiring        0.035716\n",
       "to              0.035716\n",
       "like            0.000036\n",
       "is              0.000036\n",
       "turtle          0.000036\n",
       "space           0.000036\n",
       "at              0.000036\n",
       "time            0.000036\n",
       "and             0.000036\n",
       "air             0.000036\n",
       "day             0.000036\n",
       "Name: Topic0, dtype: float64"
      ]
     },
     "execution_count": 22,
     "metadata": {},
     "output_type": "execute_result"
    }
   ],
   "source": [
    "phi.loc['Topic0'].sort_values(ascending=False)"
   ]
  },
  {
   "cell_type": "code",
   "execution_count": 23,
   "metadata": {},
   "outputs": [
    {
     "data": {
      "text/plain": [
       "space           0.142653\n",
       "on              0.071362\n",
       "is              0.071362\n",
       "like            0.071362\n",
       "turkey          0.071362\n",
       "at              0.071362\n",
       "and             0.071362\n",
       "turtle          0.071362\n",
       "day             0.071362\n",
       "race            0.071362\n",
       "movie           0.071362\n",
       "time            0.071362\n",
       "air             0.071362\n",
       "trot            0.000071\n",
       "i               0.000071\n",
       "thanksgiving    0.000071\n",
       "holiday         0.000071\n",
       "cake            0.000071\n",
       "cool            0.000071\n",
       "snail           0.000071\n",
       "aspiring        0.000071\n",
       "to              0.000071\n",
       "the             0.000071\n",
       "museum          0.000071\n",
       "star            0.000071\n",
       "travel          0.000071\n",
       "eat             0.000071\n",
       "Name: Topic1, dtype: float64"
      ]
     },
     "execution_count": 23,
     "metadata": {},
     "output_type": "execute_result"
    }
   ],
   "source": [
    "phi.loc['Topic1'].sort_values(ascending=False)"
   ]
  },
  {
   "cell_type": "code",
   "execution_count": 24,
   "metadata": {},
   "outputs": [
    {
     "data": {
      "image/png": "[encoded data removed]",
      "text/plain": [
       "<Figure size 576x432 with 8 Axes>"
      ]
     },
     "metadata": {},
     "output_type": "display_data"
    }
   ],
   "source": [
    "#https://gist.github.com/agitter/46b2169a035ad25b5d2b024a00344d54\n",
    "'''Functions for drawing contours of Dirichlet distributions.'''\n",
    "\n",
    "# Author: Thomas Boggs\n",
    "\n",
    "import numpy as np\n",
    "import matplotlib.pyplot as plt\n",
    "import matplotlib.tri as tri\n",
    "from functools import reduce\n",
    "\n",
    "_corners = np.array([[0, 0], [1, 0], [0.5, 0.75**0.5]])\n",
    "_triangle = tri.Triangulation(_corners[:, 0], _corners[:, 1])\n",
    "_midpoints = [(_corners[(i + 1) % 3] + _corners[(i + 2) % 3]) / 2.0 \\\n",
    "              for i in range(3)]\n",
    "\n",
    "def xy2bc(xy, tol=1.e-3):\n",
    "    '''Converts 2D Cartesian coordinates to barycentric.\n",
    "    Arguments:\n",
    "        `xy`: A length-2 sequence containing the x and y value.\n",
    "    '''\n",
    "    s = [(_corners[i] - _midpoints[i]).dot(xy - _midpoints[i]) / 0.75 \\\n",
    "         for i in range(3)]\n",
    "    return np.clip(s, tol, 1.0 - tol)\n",
    "\n",
    "class Dirichlet(object):\n",
    "    def __init__(self, alpha):\n",
    "        '''Creates Dirichlet distribution with parameter `alpha`.'''\n",
    "        from math import gamma\n",
    "        from operator import mul\n",
    "        self._alpha = np.array(alpha)\n",
    "        self._coef = gamma(np.sum(self._alpha)) / \\\n",
    "                     reduce(mul, [gamma(a) for a in self._alpha])\n",
    "    def pdf(self, x):\n",
    "        '''Returns pdf value for `x`.'''\n",
    "        from operator import mul\n",
    "        return self._coef * reduce(mul, [xx ** (aa - 1)\n",
    "                                         for (xx, aa)in zip(x, self._alpha)])\n",
    "    def sample(self, N):\n",
    "        '''Generates a random sample of size `N`.'''\n",
    "        return np.random.dirichlet(self._alpha, N)\n",
    "\n",
    "def draw_pdf_contours(dist, border=False, nlevels=200, subdiv=8, **kwargs):\n",
    "    '''Draws pdf contours over an equilateral triangle (2-simplex).\n",
    "    Arguments:\n",
    "        `dist`: A distribution instance with a `pdf` method.\n",
    "        `border` (bool): If True, the simplex border is drawn.\n",
    "        `nlevels` (int): Number of contours to draw.\n",
    "        `subdiv` (int): Number of recursive mesh subdivisions to create.\n",
    "        kwargs: Keyword args passed on to `plt.triplot`.\n",
    "    '''\n",
    "    from matplotlib import ticker, cm\n",
    "    import math\n",
    "\n",
    "    refiner = tri.UniformTriRefiner(_triangle)\n",
    "    trimesh = refiner.refine_triangulation(subdiv=subdiv)\n",
    "    pvals = [dist.pdf(xy2bc(xy)) for xy in zip(trimesh.x, trimesh.y)]\n",
    "\n",
    "    plt.tricontourf(trimesh, pvals, nlevels, **kwargs)\n",
    "    plt.axis('equal')\n",
    "    plt.xlim(0, 1)\n",
    "    plt.ylim(0, 0.75**0.5)\n",
    "    plt.axis('off')\n",
    "    if border is True:\n",
    "        plt.hold(1)\n",
    "        plt.triplot(_triangle, linewidth=1)\n",
    "\n",
    "def plot_points(X, barycentric=True, border=True, **kwargs):\n",
    "    '''Plots a set of points in the simplex.\n",
    "    Arguments:\n",
    "        `X` (ndarray): A 2xN array (if in Cartesian coords) or 3xN array\n",
    "                       (if in barycentric coords) of points to plot.\n",
    "        `barycentric` (bool): Indicates if `X` is in barycentric coords.\n",
    "        `border` (bool): If True, the simplex border is drawn.\n",
    "        kwargs: Keyword args passed on to `plt.plot`.\n",
    "    '''\n",
    "    if barycentric is True:\n",
    "        X = X.dot(_corners)\n",
    "    plt.plot(X[:, 0], X[:, 1], 'k.', ms=1, **kwargs)\n",
    "    plt.axis('equal')\n",
    "    plt.xlim(0, 1)\n",
    "    plt.ylim(0, 0.75**0.5)\n",
    "    plt.axis('off')\n",
    "    if border is True:\n",
    "        plt.triplot(_triangle, linewidth=1)\n",
    "\n",
    "f = plt.figure(figsize=(8, 6))\n",
    "alphas = [[1] * 3,\n",
    "          [0.01] * 3,\n",
    "          [5] * 3,\n",
    "          [2, 5, 15]]\n",
    "for (i, alpha) in enumerate(alphas):\n",
    "    plt.subplot(2, len(alphas), i + 1)\n",
    "    dist = Dirichlet(alpha)\n",
    "    draw_pdf_contours(dist)\n",
    "    title = r'$\\alpha$ = (%.3f, %.3f, %.3f)' % tuple(alpha)\n",
    "    plt.title(title, fontdict={'fontsize': 8})\n",
    "    plt.subplot(2, len(alphas), i + 1 + len(alphas))\n",
    "    plot_points(dist.sample(5000))"
   ]
  },
  {
   "cell_type": "code",
   "execution_count": null,
   "metadata": {},
   "outputs": [],
   "source": []
  }
 ],
 "metadata": {
  "kernelspec": {
   "display_name": "Python 3",
   "language": "python",
   "name": "python3"
  },
  "language_info": {
   "codemirror_mode": {
    "name": "ipython",
    "version": 3
   },
   "file_extension": ".py",
   "mimetype": "text/x-python",
   "name": "python",
   "nbconvert_exporter": "python",
   "pygments_lexer": "ipython3",
   "version": "3.6.5"
  }
 },
 "nbformat": 4,
 "nbformat_minor": 2
}
